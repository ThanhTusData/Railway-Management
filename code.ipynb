{
 "cells": [
  {
   "cell_type": "markdown",
   "id": "20ca887c-4589-4e03-9cec-d144a8a9b5ca",
   "metadata": {},
   "source": [
    "# Đọc và lưu dữ liệu"
   ]
  },
  {
   "cell_type": "code",
   "execution_count": 2,
   "id": "07a8d085-eabb-455c-a677-664ae85bb4a1",
   "metadata": {},
   "outputs": [],
   "source": [
    "import json\n",
    "import pandas as pd\n",
    "#SCHEDULES\n",
    "# Mở và load dữ liệu từ 'schedules.json'\n",
    "with open('schedules.json', 'r') as file:\n",
    "    sche = json.load(file)\n",
    "\n",
    "# Chuyển dữ liệu thành DataFrame\n",
    "sche_df = pd.DataFrame(sche)\n",
    "\n",
    "# Lưu DataFrame vào file CSV\n",
    "sche_df.to_csv('schedules.csv', index=False)\n",
    "\n",
    "#STATIONS\n",
    "# Đọc file JSON\n",
    "with open('stations.json', 'r') as file:\n",
    "    sta = json.load(file)\n",
    "\n",
    "# Trích xuất các 'features' từ dữ liệu JSON\n",
    "features = sta['features']\n",
    "\n",
    "# Chuyển đổi dữ liệu từ 'features' thành DataFrame\n",
    "sta_df = pd.json_normalize(features)\n",
    "\n",
    "# Lưu DataFrame vào file CSV\n",
    "sta_df.to_csv('stations.csv', index=False)\n",
    "\n",
    "#TRAINS\n",
    "# Đọc file JSON\n",
    "with open('trains.json', 'r') as file:\n",
    "    tra = json.load(file)\n",
    "\n",
    "# Trích xuất các 'features' từ dữ liệu JSON\n",
    "features = tra['features']\n",
    "\n",
    "# Chuyển đổi dữ liệu từ 'features' thành DataFrame\n",
    "tra_df = pd.json_normalize(features)\n",
    "\n",
    "# Lưu DataFrame vào file CSV\n",
    "tra_df.to_csv('trains.csv', index=False)"
   ]
  },
  {
   "cell_type": "markdown",
   "id": "ebd97d9f-09d3-4a39-a424-025e1a01264e",
   "metadata": {},
   "source": [
    "# SCHEDULES"
   ]
  },
  {
   "cell_type": "code",
   "execution_count": 4,
   "id": "1392b800-eafa-46ba-a6aa-3752d89451da",
   "metadata": {},
   "outputs": [],
   "source": [
    "schedules=pd.read_csv('schedules.csv')"
   ]
  },
  {
   "cell_type": "code",
   "execution_count": 5,
   "id": "92573a9c-dc8c-4468-b0a5-33eeb2153a58",
   "metadata": {},
   "outputs": [
    {
     "name": "stdout",
     "output_type": "stream",
     "text": [
      "<class 'pandas.core.frame.DataFrame'>\n",
      "RangeIndex: 417080 entries, 0 to 417079\n",
      "Data columns (total 8 columns):\n",
      " #   Column        Non-Null Count   Dtype  \n",
      "---  ------        --------------   -----  \n",
      " 0   arrival       389245 non-null  object \n",
      " 1   day           394519 non-null  float64\n",
      " 2   train_name    417072 non-null  object \n",
      " 3   station_name  417078 non-null  object \n",
      " 4   station_code  417080 non-null  object \n",
      " 5   id            417080 non-null  int64  \n",
      " 6   train_number  417080 non-null  object \n",
      " 7   departure     389253 non-null  object \n",
      "dtypes: float64(1), int64(1), object(6)\n",
      "memory usage: 25.5+ MB\n"
     ]
    }
   ],
   "source": [
    "schedules.info()"
   ]
  },
  {
   "cell_type": "code",
   "execution_count": 6,
   "id": "a13ac42b-1ad7-4bee-9bde-99e1e76a4a3e",
   "metadata": {},
   "outputs": [
    {
     "name": "stdout",
     "output_type": "stream",
     "text": [
      "<class 'pandas.core.frame.DataFrame'>\n",
      "Index: 384105 entries, 17 to 417078\n",
      "Data columns (total 8 columns):\n",
      " #   Column        Non-Null Count   Dtype \n",
      "---  ------        --------------   ----- \n",
      " 0   arrival       384105 non-null  object\n",
      " 1   day           384105 non-null  int32 \n",
      " 2   train_name    384105 non-null  object\n",
      " 3   station_name  384105 non-null  object\n",
      " 4   station_code  384105 non-null  object\n",
      " 5   id            384105 non-null  int64 \n",
      " 6   train_number  384105 non-null  object\n",
      " 7   departure     384105 non-null  object\n",
      "dtypes: int32(1), int64(1), object(6)\n",
      "memory usage: 24.9+ MB\n",
      "None\n"
     ]
    }
   ],
   "source": [
    "import pandas as pd\n",
    "import numpy as np\n",
    "\n",
    "# Giả sử bạn đã có 'sche_df' là DataFrame của schedules\n",
    "# Xử lý cột day: điền giá trị null bằng 0 hoặc giá trị hợp lý khác\n",
    "schedules['day'].fillna(0)\n",
    "\n",
    "# Điền giá trị null cho arrival và departure bằng chuỗi rỗng\n",
    "schedules['arrival'].fillna('Unknown')\n",
    "schedules['departure'].fillna('Unknown')\n",
    "\n",
    "# Xử lý các cột object khác\n",
    "schedules = schedules.dropna()\n",
    "\n",
    "# Kiểm tra lại kiểu dữ liệu\n",
    "schedules['day'] = schedules['day'].astype(int)\n",
    "\n",
    "# Xem kết quả sau khi làm sạch\n",
    "print(schedules.info())\n"
   ]
  },
  {
   "cell_type": "code",
   "execution_count": 7,
   "id": "1c6b2de4-6d6c-4fdf-befb-a24e687c378d",
   "metadata": {},
   "outputs": [
    {
     "data": {
      "text/html": [
       "<div>\n",
       "<style scoped>\n",
       "    .dataframe tbody tr th:only-of-type {\n",
       "        vertical-align: middle;\n",
       "    }\n",
       "\n",
       "    .dataframe tbody tr th {\n",
       "        vertical-align: top;\n",
       "    }\n",
       "\n",
       "    .dataframe thead th {\n",
       "        text-align: right;\n",
       "    }\n",
       "</style>\n",
       "<table border=\"1\" class=\"dataframe\">\n",
       "  <thead>\n",
       "    <tr style=\"text-align: right;\">\n",
       "      <th></th>\n",
       "      <th>Arrival</th>\n",
       "      <th>Day</th>\n",
       "      <th>Train Name</th>\n",
       "      <th>Station Name</th>\n",
       "      <th>Station Code</th>\n",
       "      <th>Id</th>\n",
       "      <th>Train Number</th>\n",
       "      <th>Departure</th>\n",
       "    </tr>\n",
       "  </thead>\n",
       "  <tbody>\n",
       "    <tr>\n",
       "      <th>17</th>\n",
       "      <td>06:49:00</td>\n",
       "      <td>1</td>\n",
       "      <td>Pipar Road -Jodhpur Passenger Special</td>\n",
       "      <td>PIPAR ROAD JN</td>\n",
       "      <td>PPR</td>\n",
       "      <td>11813</td>\n",
       "      <td>04857</td>\n",
       "      <td>06:50:00</td>\n",
       "    </tr>\n",
       "    <tr>\n",
       "      <th>27</th>\n",
       "      <td>18:10:00</td>\n",
       "      <td>1</td>\n",
       "      <td>Bxt Alipur Duar Passenger</td>\n",
       "      <td>NEW COOCH BEHAR</td>\n",
       "      <td>NCB</td>\n",
       "      <td>299907</td>\n",
       "      <td>55792</td>\n",
       "      <td>18:15:00</td>\n",
       "    </tr>\n",
       "    <tr>\n",
       "      <th>297</th>\n",
       "      <td>13:25:00</td>\n",
       "      <td>1</td>\n",
       "      <td>Karimganj Dullabcherra Passenger</td>\n",
       "      <td>KURSEONG</td>\n",
       "      <td>KGN</td>\n",
       "      <td>338775</td>\n",
       "      <td>52571</td>\n",
       "      <td>13:35:00</td>\n",
       "    </tr>\n",
       "    <tr>\n",
       "      <th>561</th>\n",
       "      <td>09:35:00</td>\n",
       "      <td>1</td>\n",
       "      <td>Laukaha Bazar Sakri Passenger</td>\n",
       "      <td>JHANJHARPUR</td>\n",
       "      <td>JJP</td>\n",
       "      <td>121182</td>\n",
       "      <td>52520</td>\n",
       "      <td>09:40:00</td>\n",
       "    </tr>\n",
       "    <tr>\n",
       "      <th>718</th>\n",
       "      <td>11:10:00</td>\n",
       "      <td>1</td>\n",
       "      <td>Mandla Fort Balaghat Passenger</td>\n",
       "      <td>NAINPUR JUNCTION</td>\n",
       "      <td>NIR</td>\n",
       "      <td>344967</td>\n",
       "      <td>58858</td>\n",
       "      <td>11:30:00</td>\n",
       "    </tr>\n",
       "  </tbody>\n",
       "</table>\n",
       "</div>"
      ],
      "text/plain": [
       "      Arrival  Day                             Train Name      Station Name  \\\n",
       "17   06:49:00    1  Pipar Road -Jodhpur Passenger Special     PIPAR ROAD JN   \n",
       "27   18:10:00    1              Bxt Alipur Duar Passenger   NEW COOCH BEHAR   \n",
       "297  13:25:00    1       Karimganj Dullabcherra Passenger          KURSEONG   \n",
       "561  09:35:00    1          Laukaha Bazar Sakri Passenger       JHANJHARPUR   \n",
       "718  11:10:00    1         Mandla Fort Balaghat Passenger  NAINPUR JUNCTION   \n",
       "\n",
       "    Station Code      Id Train Number Departure  \n",
       "17           PPR   11813        04857  06:50:00  \n",
       "27           NCB  299907        55792  18:15:00  \n",
       "297          KGN  338775        52571  13:35:00  \n",
       "561          JJP  121182        52520  09:40:00  \n",
       "718          NIR  344967        58858  11:30:00  "
      ]
     },
     "execution_count": 7,
     "metadata": {},
     "output_type": "execute_result"
    }
   ],
   "source": [
    "# Đổi giá trị của các cột station_name và station_code thành chữ viết hoa\n",
    "schedules['station_name'] = schedules['station_name'].str.upper()\n",
    "schedules['station_code'] = schedules['station_code'].str.upper()\n",
    "\n",
    "# Đổi tên cột thành dạng title (thay _ thành khoảng trắng và viết hoa chữ cái đầu)\n",
    "schedules.columns = schedules.columns.str.replace('_', ' ').str.title()\n",
    "\n",
    "# Kiểm tra kết quả\n",
    "schedules.head()\n"
   ]
  },
  {
   "cell_type": "code",
   "execution_count": 8,
   "id": "2afb75ed-85dd-490f-8324-9ed68a213f9f",
   "metadata": {},
   "outputs": [],
   "source": [
    "schedules.to_csv('cleaned_schedules.csv', index=False)"
   ]
  },
  {
   "cell_type": "markdown",
   "id": "9d6a5cf0-4e2a-4b28-8151-ca4c4c6abb15",
   "metadata": {},
   "source": [
    "# STATIONS"
   ]
  },
  {
   "cell_type": "code",
   "execution_count": 10,
   "id": "01012c21-2ee8-45a2-bb5b-ab4e1ef94287",
   "metadata": {},
   "outputs": [],
   "source": [
    "stations=pd.read_csv('stations.csv')"
   ]
  },
  {
   "cell_type": "code",
   "execution_count": 11,
   "id": "2b324734-7706-4509-a40a-2c9c0f3181e6",
   "metadata": {},
   "outputs": [
    {
     "name": "stdout",
     "output_type": "stream",
     "text": [
      "<class 'pandas.core.frame.DataFrame'>\n",
      "RangeIndex: 8990 entries, 0 to 8989\n",
      "Data columns (total 9 columns):\n",
      " #   Column                Non-Null Count  Dtype  \n",
      "---  ------                --------------  -----  \n",
      " 0   type                  8990 non-null   object \n",
      " 1   geometry.type         8697 non-null   object \n",
      " 2   geometry.coordinates  8697 non-null   object \n",
      " 3   properties.state      4397 non-null   object \n",
      " 4   properties.code       8990 non-null   object \n",
      " 5   properties.name       8989 non-null   object \n",
      " 6   properties.zone       4458 non-null   object \n",
      " 7   properties.address    4397 non-null   object \n",
      " 8   geometry              0 non-null      float64\n",
      "dtypes: float64(1), object(8)\n",
      "memory usage: 632.2+ KB\n"
     ]
    }
   ],
   "source": [
    "stations.info()"
   ]
  },
  {
   "cell_type": "code",
   "execution_count": 12,
   "id": "4ca46449-81d2-4e53-a064-62425671edaf",
   "metadata": {},
   "outputs": [],
   "source": [
    "# Danh sách các cột cần xóa trong DataFrame schedules\n",
    "cols_to_drop_stations = ['type', 'geometry.type', 'geometry.coordinates','geometry']\n",
    "\n",
    "# Sử dụng vòng lặp để xóa các cột\n",
    "for col in cols_to_drop_stations:\n",
    "    if col in stations.columns:\n",
    "        stations.drop(col, axis=1, inplace=True)\n",
    "        \n",
    "# Đổi các giá trị '?' trong cột properties.zone thành giá trị null (hoặc 'Unknown')\n",
    "stations['properties.zone']=stations['properties.zone'].replace('?', 'Unknown')\n",
    "\n",
    "# Xóa các hàng có giá trị null ở bất kỳ cột nào\n",
    "stations = stations.dropna()\n"
   ]
  },
  {
   "cell_type": "code",
   "execution_count": 13,
   "id": "7502357e-e4ec-41a4-9adc-b9836d7e90d2",
   "metadata": {},
   "outputs": [
    {
     "name": "stdout",
     "output_type": "stream",
     "text": [
      "<class 'pandas.core.frame.DataFrame'>\n",
      "Index: 4397 entries, 0 to 6503\n",
      "Data columns (total 5 columns):\n",
      " #   Column              Non-Null Count  Dtype \n",
      "---  ------              --------------  ----- \n",
      " 0   properties.state    4397 non-null   object\n",
      " 1   properties.code     4397 non-null   object\n",
      " 2   properties.name     4397 non-null   object\n",
      " 3   properties.zone     4397 non-null   object\n",
      " 4   properties.address  4397 non-null   object\n",
      "dtypes: object(5)\n",
      "memory usage: 206.1+ KB\n",
      "None\n"
     ]
    }
   ],
   "source": [
    "# Kiểm tra lại dữ liệu sau khi làm sạch\n",
    "print(stations.info())"
   ]
  },
  {
   "cell_type": "code",
   "execution_count": 14,
   "id": "2148574d-7ac1-40a6-ae89-fca3e8facd6b",
   "metadata": {},
   "outputs": [],
   "source": [
    "# Đổi tên cột thành dạng title (thay . thành khoảng trắng và viết hoa chữ cái đầu)\n",
    "stations.columns = stations.columns.str.replace('.', ' ').str.title()"
   ]
  },
  {
   "cell_type": "code",
   "execution_count": 15,
   "id": "ff3e2f41-1c0b-4875-965b-c7034a39f3d0",
   "metadata": {},
   "outputs": [],
   "source": [
    "stations.to_csv('cleaned_stations.csv', index=False)"
   ]
  },
  {
   "cell_type": "markdown",
   "id": "0af44389-a5c0-4199-9a68-36dba8e7fa21",
   "metadata": {},
   "source": [
    "# TRAINS"
   ]
  },
  {
   "cell_type": "code",
   "execution_count": 17,
   "id": "5e388579-1520-49b9-8390-8512de5f2033",
   "metadata": {},
   "outputs": [],
   "source": [
    "trains=pd.read_csv('trains.csv')"
   ]
  },
  {
   "cell_type": "code",
   "execution_count": 18,
   "id": "fda254c0-1a06-4de3-bdbc-fb2e5073f91c",
   "metadata": {},
   "outputs": [
    {
     "name": "stdout",
     "output_type": "stream",
     "text": [
      "<class 'pandas.core.frame.DataFrame'>\n",
      "RangeIndex: 5208 entries, 0 to 5207\n",
      "Data columns (total 24 columns):\n",
      " #   Column                        Non-Null Count  Dtype  \n",
      "---  ------                        --------------  -----  \n",
      " 0   type                          5208 non-null   object \n",
      " 1   geometry.type                 5208 non-null   object \n",
      " 2   geometry.coordinates          5208 non-null   object \n",
      " 3   properties.third_ac           5208 non-null   int64  \n",
      " 4   properties.arrival            5193 non-null   object \n",
      " 5   properties.from_station_code  5208 non-null   object \n",
      " 6   properties.name               5207 non-null   object \n",
      " 7   properties.zone               5193 non-null   object \n",
      " 8   properties.chair_car          5208 non-null   int64  \n",
      " 9   properties.first_class        5208 non-null   int64  \n",
      " 10  properties.duration_m         5193 non-null   float64\n",
      " 11  properties.sleeper            5208 non-null   int64  \n",
      " 12  properties.from_station_name  5208 non-null   object \n",
      " 13  properties.number             5208 non-null   object \n",
      " 14  properties.departure          5193 non-null   object \n",
      " 15  properties.return_train       4609 non-null   object \n",
      " 16  properties.to_station_code    5208 non-null   object \n",
      " 17  properties.second_ac          5208 non-null   int64  \n",
      " 18  properties.classes            0 non-null      float64\n",
      " 19  properties.to_station_name    5208 non-null   object \n",
      " 20  properties.duration_h         5193 non-null   float64\n",
      " 21  properties.type               5193 non-null   object \n",
      " 22  properties.first_ac           5208 non-null   int64  \n",
      " 23  properties.distance           5193 non-null   float64\n",
      "dtypes: float64(4), int64(6), object(14)\n",
      "memory usage: 976.6+ KB\n"
     ]
    }
   ],
   "source": [
    "trains.info()"
   ]
  },
  {
   "cell_type": "code",
   "execution_count": 19,
   "id": "7f1e0430-cc17-4aeb-b62f-d72763923cb1",
   "metadata": {},
   "outputs": [
    {
     "name": "stdout",
     "output_type": "stream",
     "text": [
      "<class 'pandas.core.frame.DataFrame'>\n",
      "RangeIndex: 5208 entries, 0 to 5207\n",
      "Data columns (total 20 columns):\n",
      " #   Column                        Non-Null Count  Dtype  \n",
      "---  ------                        --------------  -----  \n",
      " 0   properties.third_ac           5208 non-null   int64  \n",
      " 1   properties.arrival            5193 non-null   object \n",
      " 2   properties.from_station_code  5208 non-null   object \n",
      " 3   properties.name               5207 non-null   object \n",
      " 4   properties.zone               5193 non-null   object \n",
      " 5   properties.chair_car          5208 non-null   int64  \n",
      " 6   properties.first_class        5208 non-null   int64  \n",
      " 7   properties.duration_m         5193 non-null   float64\n",
      " 8   properties.sleeper            5208 non-null   int64  \n",
      " 9   properties.from_station_name  5208 non-null   object \n",
      " 10  properties.number             5208 non-null   object \n",
      " 11  properties.departure          5193 non-null   object \n",
      " 12  properties.return_train       4609 non-null   object \n",
      " 13  properties.to_station_code    5208 non-null   object \n",
      " 14  properties.second_ac          5208 non-null   int64  \n",
      " 15  properties.to_station_name    5208 non-null   object \n",
      " 16  properties.duration_h         5193 non-null   float64\n",
      " 17  properties.type               5193 non-null   object \n",
      " 18  properties.first_ac           5208 non-null   int64  \n",
      " 19  properties.distance           5193 non-null   float64\n",
      "dtypes: float64(3), int64(6), object(11)\n",
      "memory usage: 813.9+ KB\n"
     ]
    }
   ],
   "source": [
    "# Danh sách các cột cần xóa trong DataFrame schedules\n",
    "cols_to_drop_trains = ['type', 'geometry.type', 'geometry.coordinates','properties.classes']\n",
    "\n",
    "# Sử dụng vòng lặp để xóa các cột\n",
    "for col in cols_to_drop_trains:\n",
    "    if col in trains.columns:\n",
    "        trains.drop(col, axis=1,inplace=True)\n",
    "\n",
    "trains.info()"
   ]
  },
  {
   "cell_type": "code",
   "execution_count": 20,
   "id": "e9dd91bd-2a1e-43e7-8da5-5bc073ce6408",
   "metadata": {},
   "outputs": [
    {
     "name": "stdout",
     "output_type": "stream",
     "text": [
      "<class 'pandas.core.frame.DataFrame'>\n",
      "Index: 4593 entries, 0 to 5205\n",
      "Data columns (total 20 columns):\n",
      " #   Column                        Non-Null Count  Dtype  \n",
      "---  ------                        --------------  -----  \n",
      " 0   properties.third_ac           4593 non-null   int64  \n",
      " 1   properties.arrival            4593 non-null   object \n",
      " 2   properties.from_station_code  4593 non-null   object \n",
      " 3   properties.name               4593 non-null   object \n",
      " 4   properties.zone               4593 non-null   object \n",
      " 5   properties.chair_car          4593 non-null   int64  \n",
      " 6   properties.first_class        4593 non-null   int64  \n",
      " 7   properties.duration_m         4593 non-null   float64\n",
      " 8   properties.sleeper            4593 non-null   int64  \n",
      " 9   properties.from_station_name  4593 non-null   object \n",
      " 10  properties.number             4593 non-null   object \n",
      " 11  properties.departure          4593 non-null   object \n",
      " 12  properties.return_train       4593 non-null   object \n",
      " 13  properties.to_station_code    4593 non-null   object \n",
      " 14  properties.second_ac          4593 non-null   int64  \n",
      " 15  properties.to_station_name    4593 non-null   object \n",
      " 16  properties.duration_h         4593 non-null   float64\n",
      " 17  properties.type               4593 non-null   object \n",
      " 18  properties.first_ac           4593 non-null   int64  \n",
      " 19  properties.distance           4593 non-null   float64\n",
      "dtypes: float64(3), int64(6), object(11)\n",
      "memory usage: 753.5+ KB\n",
      "None\n"
     ]
    }
   ],
   "source": [
    "\n",
    "# Điền giá trị null cho các cột quan trọng\n",
    "trains['properties.arrival'].fillna('Unknown')\n",
    "trains['properties.departure'].fillna('Unknown')\n",
    "trains['properties.zone'].fillna('Unknown')\n",
    "trains['properties.return_train'].fillna('Unknown')\n",
    "\n",
    "# Xử lý cột số liệu: điền giá trị null bằng 0 cho duration và distance\n",
    "trains['properties.duration_m'].fillna(0)\n",
    "trains['properties.duration_h'].fillna(0)\n",
    "trains['properties.distance'].fillna(0)\n",
    "\n",
    "# Đổi các giá trị '?' trong cột properties.zone thành giá trị null (hoặc 'Unknown')\n",
    "trains['properties.zone']=trains['properties.zone'].replace('?', 'Unknown')\n",
    "\n",
    "trains = trains.dropna()\n",
    "\n",
    "# Kiểm tra lại kiểu dữ liệu\n",
    "trains['properties.duration_m'] = trains['properties.duration_m'].astype(float)\n",
    "trains['properties.duration_h'] = trains['properties.duration_h'].astype(float)\n",
    "trains['properties.distance'] = trains['properties.distance'].astype(float)\n",
    "\n",
    "# Xem thông tin sau khi làm sạch\n",
    "print(trains.info())\n"
   ]
  },
  {
   "cell_type": "code",
   "execution_count": 21,
   "id": "7b29b960-63c8-407d-a94a-41ccf5641aa8",
   "metadata": {},
   "outputs": [],
   "source": [
    "# Đổi tên cột thành dạng title (thay _ và . thành khoảng trắng và viết hoa chữ cái đầu)\n",
    "trains.columns = trains.columns.str.replace('.', ' ').str.title()\n",
    "trains.columns = trains.columns.str.replace('_', ' ').str.title()"
   ]
  },
  {
   "cell_type": "code",
   "execution_count": 22,
   "id": "3d5e2e44-f768-435b-b102-a35d2eab20f8",
   "metadata": {},
   "outputs": [],
   "source": [
    "trains.to_csv('cleaned_strains.csv', index=False)"
   ]
  },
  {
   "cell_type": "code",
   "execution_count": null,
   "id": "d3ade9ca-f98e-4d55-8815-ded26c2e0063",
   "metadata": {},
   "outputs": [],
   "source": []
  }
 ],
 "metadata": {
  "kernelspec": {
   "display_name": "Python 3 (ipykernel)",
   "language": "python",
   "name": "python3"
  },
  "language_info": {
   "codemirror_mode": {
    "name": "ipython",
    "version": 3
   },
   "file_extension": ".py",
   "mimetype": "text/x-python",
   "name": "python",
   "nbconvert_exporter": "python",
   "pygments_lexer": "ipython3",
   "version": "3.12.4"
  }
 },
 "nbformat": 4,
 "nbformat_minor": 5
}
